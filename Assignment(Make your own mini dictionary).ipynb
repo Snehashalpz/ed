{
 "cells": [
  {
   "cell_type": "code",
   "execution_count": 1,
   "id": "b48d28c5",
   "metadata": {},
   "outputs": [
    {
     "name": "stdout",
     "output_type": "stream",
     "text": [
      "The ascii value of alphabet and its corresponding value is: {'a': 97, 'b': 98, 'c': 99, 'd': 100, 'e': 101, 'f': 102, 'g': 103, 'h': 104, 'i': 105, 'j': 106, 'k': 107, 'l': 108, 'm': 109, 'n': 110, 'o': 111, 'p': 112, 'q': 113, 'r': 114, 's': 115, 't': 116, 'u': 117, 'v': 118, 'w': 119, 'x': 120, 'y': 121, 'z': 122}\n"
     ]
    }
   ],
   "source": [
    "#write a python program to print a dictionary whose ey should be the alphabet from a-z and the value should be\n",
    "#corresponding AScii vaues.\n",
    "\n",
    "\n",
    "def ascii_dictionary():\n",
    "    ascii_dict={}\n",
    "    for letter in range(ord(\"a\"),ord(\"z\")+1):\n",
    "        ascii_dict[chr(letter)] = letter\n",
    "    print(\"The ascii value of alphabet and its corresponding value is:\", ascii_dict)\n",
    "    \n",
    "\n",
    "ascii_dictionary()"
   ]
  }
 ],
 "metadata": {
  "kernelspec": {
   "display_name": "Python 3 (ipykernel)",
   "language": "python",
   "name": "python3"
  },
  "language_info": {
   "codemirror_mode": {
    "name": "ipython",
    "version": 3
   },
   "file_extension": ".py",
   "mimetype": "text/x-python",
   "name": "python",
   "nbconvert_exporter": "python",
   "pygments_lexer": "ipython3",
   "version": "3.10.9"
  }
 },
 "nbformat": 4,
 "nbformat_minor": 5
}
