{
 "cells": [
  {
   "cell_type": "code",
   "execution_count": 1,
   "id": "fe1a0434",
   "metadata": {},
   "outputs": [
    {
     "name": "stdout",
     "output_type": "stream",
     "text": [
      "sort_list of sample_list is: [(2, 1), (1, 2), (2, 3), (4, 4), (2, 5)]\n"
     ]
    }
   ],
   "source": [
    "#write a python program to get a list shoted in increasing order by the last element in each tuple from a given list of non\n",
    "#empty tuples:\n",
    "\n",
    "\n",
    "def sort_listed(tuple_list):\n",
    "    sort_listed= sorted(tuple_list, key = lambda x:x[-1])\n",
    "    return sort_listed\n",
    "\n",
    "sample_list = [(2,5),(1,2),(4,4),(2,3),(2,1)]\n",
    "result = sort_listed(sample_list)\n",
    "\n",
    "print(\"sort_list of sample_list is:\",result)                                        "
   ]
  }
 ],
 "metadata": {
  "kernelspec": {
   "display_name": "Python 3 (ipykernel)",
   "language": "python",
   "name": "python3"
  },
  "language_info": {
   "codemirror_mode": {
    "name": "ipython",
    "version": 3
   },
   "file_extension": ".py",
   "mimetype": "text/x-python",
   "name": "python",
   "nbconvert_exporter": "python",
   "pygments_lexer": "ipython3",
   "version": "3.10.9"
  }
 },
 "nbformat": 4,
 "nbformat_minor": 5
}
